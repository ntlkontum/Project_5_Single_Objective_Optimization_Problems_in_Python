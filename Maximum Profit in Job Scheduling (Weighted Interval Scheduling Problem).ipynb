{
 "cells": [
  {
   "cell_type": "markdown",
   "id": "41856962-2f0f-4363-9858-a4048d7cbf70",
   "metadata": {},
   "source": [
    "---------------------------------\n",
    "\n",
    "Nguyen Thanh Long\n",
    "\n",
    "-------------------------------"
   ]
  },
  {
   "cell_type": "markdown",
   "id": "2522f682-f00c-49a0-bb3e-b57cb2e21f65",
   "metadata": {},
   "source": [
    "## Problem Description ##\n",
    "We have `n` jobs, Each job i runs from `startTime[i]` to `endTime[i]`, and gives a profit of `profit[i]`\n",
    "\n",
    "**Goal:** Return the maximum total profit by selecting a subset of non-overlapping jobs.\n",
    "\n",
    "I apply three methods to solve the problem:\n",
    "\n",
    "**1.** DFS + Memoization + Binary Search\n",
    " \n",
    "**2.** Dynamic Programming(DP) +  Binary Search\n",
    "\n",
    "**3.** Binary Integer Programming (BIP)"
   ]
  },
  {
   "cell_type": "markdown",
   "id": "b26b9094-dac3-4da1-a9e0-85e205381514",
   "metadata": {},
   "source": [
    "## Example "
   ]
  },
  {
   "attachments": {
    "e8471794-da76-4548-b080-85228d28bb5e.png": {
     "image/png": "[encoded data removed]"
    }
   },
   "cell_type": "markdown",
   "id": "0cbf95c8-5299-4a6d-9b52-eb3393fa324f",
   "metadata": {},
   "source": [
    "![image.png](attachment:e8471794-da76-4548-b080-85228d28bb5e.png)\n",
    "\n",
    "- **Input** : startTime = [1,2,3,3] ; endTime = [3,4,5,6] ; profit = [50,10,40,70]\n",
    "- **Output** : 120\n",
    "- **Explanation**: The subset chosen is the first and the forth job. Time range [1-3] + [3-6], we get profit of 120 = 50 + 70"
   ]
  },
  {
   "cell_type": "markdown",
   "id": "553137b0-810a-4dcb-b822-6caf43d55384",
   "metadata": {
    "jp-MarkdownHeadingCollapsed": true
   },
   "source": [
    "### 1. DFS + Memoization + Binary Search"
   ]
  },
  {
   "cell_type": "markdown",
   "id": "3256f23a-cdb6-44e1-92ac-d0ce86220385",
   "metadata": {},
   "source": [
    "- **pros:** Simple, easy to implement, no external libraries needed\n",
    "- **cons:** Risk of stack overflow on large data, hard to optimize/extend\n",
    "- **Enterprise applicability:** Low (not suitable for integration)\n",
    "- **Solving performance:** Moderate (up to ~10⁴ jobs)\n",
    "- **Extendability:** Poor"
   ]
  },
  {
   "cell_type": "code",
   "execution_count": 19,
   "id": "ee207d94-add3-409d-9a34-cffdac993a13",
   "metadata": {},
   "outputs": [
    {
     "name": "stdout",
     "output_type": "stream",
     "text": [
      "Maximum profit: 120\n"
     ]
    }
   ],
   "source": [
    "import bisect\n",
    "from typing import List\n",
    "\n",
    "class Solution:\n",
    "    def jobScheduling(self, startTime: List[int], endTime: List[int], profit: List[int]) -> int:\n",
    "        intervals = sorted(zip(startTime, endTime, profit), key=lambda x: x[1])  # Sort by endTime\n",
    "        start = [job[0] for job in intervals]\n",
    "        cache = {}\n",
    "\n",
    "        def dfs(i):\n",
    "            if i == len(intervals):\n",
    "                return 0\n",
    "            if i in cache:\n",
    "                return cache[i]\n",
    "            # Don't include current job\n",
    "            res = dfs(i + 1)\n",
    "            # Include current job\n",
    "            # Find the next job whose startTime >= current job's endTime\n",
    "            j = bisect.bisect_left(start, intervals[i][1])  # start[j] >= end[i]\n",
    "            res = max(res, intervals[i][2] + dfs(j))\n",
    "\n",
    "            cache[i] = res\n",
    "            return res\n",
    "        return dfs(0)\n",
    "\n",
    "# Input\n",
    "startTime = [1,2,3,3] \n",
    "endTime = [3,4,5,6] \n",
    "profit = [50,10,40,70]\n",
    "\n",
    "solution = Solution()\n",
    "result = solution.jobScheduling(startTime, endTime, profit)\n",
    "\n",
    "# Print result\n",
    "print(\"Maximum profit:\", result)"
   ]
  },
  {
   "cell_type": "markdown",
   "id": "a82737a1-5297-49a2-ab1e-1ef2a2241fa5",
   "metadata": {},
   "source": [
    "**==> Further coding is needed to retrieve the selected tasks**"
   ]
  },
  {
   "cell_type": "markdown",
   "id": "90221363-74af-4af2-8a7b-534f50094e53",
   "metadata": {
    "jp-MarkdownHeadingCollapsed": true
   },
   "source": [
    "### 2. Dynamic Programming(DP) + Binary Search"
   ]
  },
  {
   "cell_type": "markdown",
   "id": "a20d32a9-731c-41f5-9d9b-049dfb3e1fa6",
   "metadata": {},
   "source": [
    "- **pros:**  Very fast and time-efficient, cales well to large data\n",
    "- **cons:** Not suitable for complex constraint modeling\n",
    "- **Enterprise applicability:** Medium (can be used as a standalone module)\n",
    "- **Solving performance:**  Good (up to ~10⁵ jobs)\n",
    "- **Extendability:** Limited"
   ]
  },
  {
   "cell_type": "code",
   "execution_count": 38,
   "id": "6d9dbf13-9d2c-45a5-902a-f473a89ab33b",
   "metadata": {},
   "outputs": [
    {
     "name": "stdout",
     "output_type": "stream",
     "text": [
      "Maximum profit: 120\n"
     ]
    }
   ],
   "source": [
    "from bisect import bisect_right\n",
    "\n",
    "def jobScheduling(startTime, endTime, profit):\n",
    "    jobs = sorted(zip(startTime, endTime, profit), key=lambda x: x[1])\n",
    "    starts = [job[0] for job in jobs]\n",
    "    dp = [0] * (len(jobs) + 1)\n",
    "\n",
    "    for i in range(1, len(jobs) + 1):\n",
    "        s, e, p = jobs[i-1]\n",
    "        # Find the latest job that doesn't overlap (binary search)\n",
    "        j = bisect_right([job[1] for job in jobs], s)\n",
    "        dp[i] = max(dp[i-1], dp[j] + p)\n",
    "    return dp[-1]\n",
    "\n",
    "# Input\n",
    "startTime = [1,2,3,3] \n",
    "endTime = [3,4,5,6] \n",
    "profit = [50,10,40,70]\n",
    "\n",
    "\n",
    "result = jobScheduling(startTime, endTime, profit)\n",
    "print(\"Maximum profit:\",result)"
   ]
  },
  {
   "cell_type": "markdown",
   "id": "8ed2ca12-78dd-4077-a1dd-6b6d1464132f",
   "metadata": {},
   "source": [
    "**==> Further coding is needed to retrieve the selected tasks**"
   ]
  },
  {
   "cell_type": "markdown",
   "id": "0a3a78a9-3b91-4b15-8047-2b7b3bbb2758",
   "metadata": {
    "jp-MarkdownHeadingCollapsed": true
   },
   "source": [
    "### 3. Binary Integer Programming (BIP)"
   ]
  },
  {
   "cell_type": "markdown",
   "id": "dd18c184-d5f9-4385-8f88-785090ec6191",
   "metadata": {},
   "source": [
    "- **pros:**  Highly flexible, supports additional constraints, easily integrated into enterprise systems\n",
    "- **cons:** Slower solving time,  requires modeling skills and solver tools \n",
    "- **Enterprise applicability:** High (integrates well with ERP, APS, MES systems)\n",
    "- **Solving performance:** Slow (practical for n ≲ 1000)\n",
    "- **Extendability:** Strong (easily supports extra business rules like resource limits, shift schedules, penalty costs, etc)"
   ]
  },
  {
   "cell_type": "markdown",
   "id": "00ff754a-9624-4ebf-af5a-54f67e88db1e",
   "metadata": {},
   "source": [
    "**Decision variable**\n",
    "$$\n",
    "x_i =\n",
    "\\begin{cases}\n",
    "1 & \\text{if job } i \\text{ is selected} \\\\\n",
    "0 & \\text{otherwise}\n",
    "\\end{cases}\n",
    "$$"
   ]
  },
  {
   "cell_type": "markdown",
   "id": "0aaba104-fafa-44c0-b004-8d8b198a1640",
   "metadata": {},
   "source": [
    "**Objective Function (maximize total profit):**\n",
    "$$\r\n",
    "\\max \\sum_{i=1}^{n} profit_i \\cdot x_i\r\n",
    "$$"
   ]
  },
  {
   "cell_type": "markdown",
   "id": "e8675638-7c08-4201-a0df-916ad8295290",
   "metadata": {},
   "source": [
    " **Constraint (no overlapping jobs):**\n",
    "\n",
    "For every pair of jobs \\( (i, j) \\) that overlap:\n",
    "\n",
    "$$\n",
    "x_i + x_j \\leq 1\n",
    "$$"
   ]
  },
  {
   "cell_type": "code",
   "execution_count": 41,
   "id": "7038b870-fad6-47ef-9094-462059dfb6a5",
   "metadata": {},
   "outputs": [
    {
     "name": "stdout",
     "output_type": "stream",
     "text": [
      "Maximum profit: 120.0\n",
      "Selected jobs:\n",
      "  Job #1 — Start: 1, End: 3, Profit: 50\n",
      "  Job #4 — Start: 3, End: 6, Profit: 70\n"
     ]
    },
    {
     "data": {
      "text/plain": [
       "120.0"
      ]
     },
     "execution_count": 41,
     "metadata": {},
     "output_type": "execute_result"
    }
   ],
   "source": [
    "from pulp import *\n",
    "\n",
    "def jobSchedulingPulp(startTime, endTime, profit):\n",
    "    n = len(startTime)\n",
    "\n",
    "    # Create the model\n",
    "    model = LpProblem(\"Maximize_Job_Profit\", LpMaximize)\n",
    "\n",
    "    # Create variables\n",
    "    x = [LpVariable(f\"x_{i}\", cat=LpBinary) for i in range(n)]\n",
    "\n",
    "    # Objective function\n",
    "    model += lpSum(profit[i] * x[i] for i in range(n))\n",
    "\n",
    "    # Constraints\n",
    "    for i in range(n):\n",
    "        for j in range(i + 1, n):\n",
    "            if not (endTime[i] <= startTime[j] or endTime[j] <= startTime[i]):\n",
    "                model += x[i] + x[j] <= 1, f\"No_Overlap_{i}_{j}\"\n",
    "\n",
    "    # Solve\n",
    "    model.solve()\n",
    "\n",
    "    selected_jobs = [i for i in range(n) if value(x[i]) > 0.5]\n",
    "    total_profit = value(model.objective)\n",
    "\n",
    "    # Print result\n",
    "    print(\"Maximum profit:\", total_profit)\n",
    "    print(\"Selected jobs:\")\n",
    "    for i in selected_jobs:\n",
    "        print(f\"  Job #{i+1} — Start: {startTime[i]}, End: {endTime[i]}, Profit: {profit[i]}\")\n",
    "\n",
    "    return total_profit\n",
    "\n",
    "\n",
    "# Input\n",
    "startTime = [1,2,3,3] \n",
    "endTime = [3,4,5,6] \n",
    "profit = [50,10,40,70]\n",
    "\n",
    "# Output\n",
    "jobSchedulingPulp(startTime, endTime, profit)"
   ]
  },
  {
   "cell_type": "markdown",
   "id": "0086820f-f928-4515-9aad-ac4d45a0b988",
   "metadata": {
    "jp-MarkdownHeadingCollapsed": true
   },
   "source": [
    "## Summary & Recommendation\r\n",
    "\r\n",
    "| Method | Pros | Cons | Best use case |\r\n",
    "|--------|------|------|----------------|\r\n",
    "| **DFS + Memoization** | Simple, intuitive | Stack overflow risk | Academic / small test cases |\r\n",
    "| **DP + Binary Search** | Fast, scalable | Hard to extend | Large-scale fixed structure |\r\n",
    "| **BIP with PuLP** | Flexible, enterprise-ready | Slower, needs solver | Business apps, ERP, scheduling |\r\n",
    "\r\n",
    "**Conclusion**:  \r\n",
    "- Use **DP** for speed and large input  \r\n",
    "- Use **BIP** for integration, constraint handling, and real-world applications  \r\n",
    "- Use **DFS** for learning or small-scale testing\r\n"
   ]
  }
 ],
 "metadata": {
  "kernelspec": {
   "display_name": "Python 3 (ipykernel)",
   "language": "python",
   "name": "python3"
  },
  "language_info": {
   "codemirror_mode": {
    "name": "ipython",
    "version": 3
   },
   "file_extension": ".py",
   "mimetype": "text/x-python",
   "name": "python",
   "nbconvert_exporter": "python",
   "pygments_lexer": "ipython3",
   "version": "3.11.7"
  }
 },
 "nbformat": 4,
 "nbformat_minor": 5
}
